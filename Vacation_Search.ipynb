{
 "cells": [
  {
   "cell_type": "code",
   "execution_count": null,
   "metadata": {},
   "outputs": [],
   "source": [
    "## Part 2 Instructions: Have Customers Narrow Their Travel Searches Based on Temperature and Precipitation"
   ]
  },
  {
   "cell_type": "code",
   "execution_count": 1,
   "metadata": {},
   "outputs": [],
   "source": [
    "import pandas as pd\n",
    "import gmaps\n",
    "import requests\n",
    "from config import g_key"
   ]
  },
  {
   "cell_type": "code",
   "execution_count": 2,
   "metadata": {},
   "outputs": [
    {
     "data": {
      "text/plain": [
       "Unnamed: 0                    int64\n",
       "City                         object\n",
       "Country                      object\n",
       "Date                         object\n",
       "Lat                         float64\n",
       "Lng                         float64\n",
       "Max Temp                    float64\n",
       "Humidity                      int64\n",
       "Cloudiness                    int64\n",
       "Wind Speed                  float64\n",
       "Current Description          object\n",
       "Rain inches (last 3 hrs)    float64\n",
       "Snow inches (last 3 hrs)    float64\n",
       "dtype: object"
      ]
     },
     "execution_count": 2,
     "metadata": {},
     "output_type": "execute_result"
    }
   ],
   "source": [
    "# Read Files\n",
    "city_data_df = pd.read_csv(\"weather_data/WeatherPy_challenge.csv\")\n",
    "city_data_df.dtypes"
   ]
  },
  {
   "cell_type": "code",
   "execution_count": 3,
   "metadata": {},
   "outputs": [
    {
     "name": "stdout",
     "output_type": "stream",
     "text": [
      "What is the minimum temperature you would like for your trip? 75\n",
      "What is the maximum temperature you would like for your trip? 90\n",
      "Do you want it to be raining? (yes/no) yes\n",
      "Do you want it to be snowing? (yes/no) no\n"
     ]
    }
   ],
   "source": [
    "# Ask the customer to add a minimum and maximum temperature value.\n",
    "min_temp = float(input(\"What is the minimum temperature you would like for your trip? \"))\n",
    "max_temp = float(input(\"What is the maximum temperature you would like for your trip? \"))\n",
    "rain = str(input(\"Do you want it to be raining? (yes/no) \"))\n",
    "snow = str(input(\"Do you want it to be snowing? (yes/no) \"))"
   ]
  },
  {
   "cell_type": "code",
   "execution_count": 4,
   "metadata": {},
   "outputs": [
    {
     "data": {
      "text/plain": [
       "Unnamed: 0                  29\n",
       "City                        29\n",
       "Country                     29\n",
       "Date                        29\n",
       "Lat                         29\n",
       "Lng                         29\n",
       "Max Temp                    29\n",
       "Humidity                    29\n",
       "Cloudiness                  29\n",
       "Wind Speed                  29\n",
       "Current Description         29\n",
       "Rain inches (last 3 hrs)    29\n",
       "Snow inches (last 3 hrs)    29\n",
       "dtype: int64"
      ]
     },
     "execution_count": 4,
     "metadata": {},
     "output_type": "execute_result"
    }
   ],
   "source": [
    "# Filter the dataset to find the cities that fit the criteria.\n",
    "preferred_temp_city_df = city_data_df.loc[(city_data_df[\"Max Temp\"] <= max_temp) & (city_data_df[\"Max Temp\"] >= min_temp)]\n",
    "\n",
    "if (rain == \"no\") & (snow == \"no\"):\n",
    "    preferred_cities_df = preferred_temp_city_df.loc[(city_data_df[\"Rain inches (last 3 hrs)\"] == 0) &\n",
    "                                                     (city_data_df[\"Snow inches (last 3 hrs)\"] == 0)]\n",
    "elif (rain == \"yes\") & (snow == \"no\"):\n",
    "    preferred_cities_df = preferred_temp_city_df.loc[(city_data_df[\"Rain inches (last 3 hrs)\"] != 0) &\n",
    "                                                     (city_data_df[\"Snow inches (last 3 hrs)\"] == 0)]\n",
    "elif (rain == \"no\") & (snow == \"yes\"):\n",
    "    preferred_cities_df = preferred_temp_city_df.loc[(city_data_df[\"Rain inches (last 3 hrs)\"] == 0) &\n",
    "                                                     (city_data_df[\"Snow inches (last 3 hrs)\"] != 0)]\n",
    "else:\n",
    "    preferred_cities_df = preferred_temp_city_df.loc[(city_data_df[\"Rain inches (last 3 hrs)\"] != 0) &\n",
    "                                                     (city_data_df[\"Snow inches (last 3 hrs)\"] != 0)]\n",
    "\n",
    "    \n",
    "preferred_cities_df.count()"
   ]
  },
  {
   "cell_type": "code",
   "execution_count": 5,
   "metadata": {},
   "outputs": [],
   "source": [
    "# Create DataFrame called hotel_df to store hotel names along with city, country, max temp, and coordinates.\n",
    "hotel_df = preferred_cities_df.copy()[[\"City\", \"Country\", \"Max Temp\", \"Current Description\", \"Lat\", \"Lng\"]]\n",
    "hotel_df[\"Hotel Name\"] = \"\""
   ]
  },
  {
   "cell_type": "code",
   "execution_count": 6,
   "metadata": {},
   "outputs": [
    {
     "name": "stdout",
     "output_type": "stream",
     "text": [
      "Hotel not found... skipping.\n",
      "Hotel not found... skipping.\n",
      "Hotel not found... skipping.\n"
     ]
    }
   ],
   "source": [
    "# Set parameters to search for a hotel.\n",
    "params = {\n",
    "    \"radius\": 5000,\n",
    "    \"type\": \"lodging\",\n",
    "    \"key\": g_key\n",
    "}\n",
    "# Iterate through the DataFrame.\n",
    "for index, row in hotel_df.iterrows():\n",
    "    # Get the latitude and longitude.\n",
    "    lat = row[\"Lat\"]\n",
    "    lng = row[\"Lng\"]\n",
    "\n",
    "    # Add the latitude and longitude to location key for the params dictionary.\n",
    "    params[\"location\"] = f\"{lat},{lng}\"\n",
    "\n",
    "    # Use the search term: \"lodging\" and our latitude and longitude.\n",
    "    base_url = \"https://maps.googleapis.com/maps/api/place/nearbysearch/json\"\n",
    "    # Make request and get the JSON data from the search.\n",
    "    hotels = requests.get(base_url, params=params).json()\n",
    "    # Grab the first hotel from the results and store the name.\n",
    "    try:\n",
    "        hotel_df.loc[index, \"Hotel Name\"] = hotels[\"results\"][0][\"name\"]\n",
    "    except (IndexError):\n",
    "        print(\"Hotel not found... skipping.\")"
   ]
  },
  {
   "cell_type": "code",
   "execution_count": 8,
   "metadata": {},
   "outputs": [
    {
     "data": {
      "text/html": [
       "<div>\n",
       "<style scoped>\n",
       "    .dataframe tbody tr th:only-of-type {\n",
       "        vertical-align: middle;\n",
       "    }\n",
       "\n",
       "    .dataframe tbody tr th {\n",
       "        vertical-align: top;\n",
       "    }\n",
       "\n",
       "    .dataframe thead th {\n",
       "        text-align: right;\n",
       "    }\n",
       "</style>\n",
       "<table border=\"1\" class=\"dataframe\">\n",
       "  <thead>\n",
       "    <tr style=\"text-align: right;\">\n",
       "      <th></th>\n",
       "      <th>City</th>\n",
       "      <th>Country</th>\n",
       "      <th>Max Temp</th>\n",
       "      <th>Current Description</th>\n",
       "      <th>Lat</th>\n",
       "      <th>Lng</th>\n",
       "      <th>Hotel Name</th>\n",
       "    </tr>\n",
       "  </thead>\n",
       "  <tbody>\n",
       "    <tr>\n",
       "      <td>17</td>\n",
       "      <td>Muli</td>\n",
       "      <td>MV</td>\n",
       "      <td>82.89</td>\n",
       "      <td>light rain</td>\n",
       "      <td>2.92</td>\n",
       "      <td>73.57</td>\n",
       "      <td>Medhufushi Island Resort</td>\n",
       "    </tr>\n",
       "    <tr>\n",
       "      <td>65</td>\n",
       "      <td>Puerto Ayora</td>\n",
       "      <td>EC</td>\n",
       "      <td>78.01</td>\n",
       "      <td>light rain</td>\n",
       "      <td>-0.74</td>\n",
       "      <td>-90.35</td>\n",
       "      <td>Finch Bay Galapagos Hotel</td>\n",
       "    </tr>\n",
       "    <tr>\n",
       "      <td>68</td>\n",
       "      <td>Luwuk</td>\n",
       "      <td>ID</td>\n",
       "      <td>85.17</td>\n",
       "      <td>light rain</td>\n",
       "      <td>-0.95</td>\n",
       "      <td>122.79</td>\n",
       "      <td>Hotel Santika Luwuk</td>\n",
       "    </tr>\n",
       "    <tr>\n",
       "      <td>84</td>\n",
       "      <td>Dingle</td>\n",
       "      <td>PH</td>\n",
       "      <td>81.34</td>\n",
       "      <td>light rain</td>\n",
       "      <td>11.00</td>\n",
       "      <td>122.67</td>\n",
       "      <td>Camp Pasica</td>\n",
       "    </tr>\n",
       "    <tr>\n",
       "      <td>93</td>\n",
       "      <td>Butaritari</td>\n",
       "      <td>KI</td>\n",
       "      <td>84.38</td>\n",
       "      <td>light rain</td>\n",
       "      <td>3.07</td>\n",
       "      <td>172.79</td>\n",
       "      <td>Isles Sunset Lodge</td>\n",
       "    </tr>\n",
       "    <tr>\n",
       "      <td>98</td>\n",
       "      <td>Meulaboh</td>\n",
       "      <td>ID</td>\n",
       "      <td>81.50</td>\n",
       "      <td>light rain</td>\n",
       "      <td>4.14</td>\n",
       "      <td>96.13</td>\n",
       "      <td>Kost Pria</td>\n",
       "    </tr>\n",
       "    <tr>\n",
       "      <td>109</td>\n",
       "      <td>Avarua</td>\n",
       "      <td>CK</td>\n",
       "      <td>84.20</td>\n",
       "      <td>light rain</td>\n",
       "      <td>-21.21</td>\n",
       "      <td>-159.78</td>\n",
       "      <td>Paradise Inn</td>\n",
       "    </tr>\n",
       "    <tr>\n",
       "      <td>119</td>\n",
       "      <td>Ballina</td>\n",
       "      <td>AU</td>\n",
       "      <td>77.00</td>\n",
       "      <td>light rain</td>\n",
       "      <td>-28.87</td>\n",
       "      <td>153.57</td>\n",
       "      <td>Ramada Hotel &amp; Suites by Wyndham Ballina Byron</td>\n",
       "    </tr>\n",
       "    <tr>\n",
       "      <td>127</td>\n",
       "      <td>Gamba</td>\n",
       "      <td>GA</td>\n",
       "      <td>78.60</td>\n",
       "      <td>moderate rain</td>\n",
       "      <td>-2.65</td>\n",
       "      <td>10.00</td>\n",
       "      <td></td>\n",
       "    </tr>\n",
       "    <tr>\n",
       "      <td>155</td>\n",
       "      <td>Kramat</td>\n",
       "      <td>ID</td>\n",
       "      <td>80.44</td>\n",
       "      <td>light rain</td>\n",
       "      <td>-8.13</td>\n",
       "      <td>113.45</td>\n",
       "      <td>Padepokan HM Arum Sabil</td>\n",
       "    </tr>\n",
       "  </tbody>\n",
       "</table>\n",
       "</div>"
      ],
      "text/plain": [
       "             City Country  Max Temp Current Description    Lat     Lng  \\\n",
       "17           Muli      MV     82.89          light rain   2.92   73.57   \n",
       "65   Puerto Ayora      EC     78.01          light rain  -0.74  -90.35   \n",
       "68          Luwuk      ID     85.17          light rain  -0.95  122.79   \n",
       "84         Dingle      PH     81.34          light rain  11.00  122.67   \n",
       "93     Butaritari      KI     84.38          light rain   3.07  172.79   \n",
       "98       Meulaboh      ID     81.50          light rain   4.14   96.13   \n",
       "109        Avarua      CK     84.20          light rain -21.21 -159.78   \n",
       "119       Ballina      AU     77.00          light rain -28.87  153.57   \n",
       "127         Gamba      GA     78.60       moderate rain  -2.65   10.00   \n",
       "155        Kramat      ID     80.44          light rain  -8.13  113.45   \n",
       "\n",
       "                                         Hotel Name  \n",
       "17                         Medhufushi Island Resort  \n",
       "65                        Finch Bay Galapagos Hotel  \n",
       "68                              Hotel Santika Luwuk  \n",
       "84                                      Camp Pasica  \n",
       "93                               Isles Sunset Lodge  \n",
       "98                                        Kost Pria  \n",
       "109                                    Paradise Inn  \n",
       "119  Ramada Hotel & Suites by Wyndham Ballina Byron  \n",
       "127                                                  \n",
       "155                         Padepokan HM Arum Sabil  "
      ]
     },
     "execution_count": 8,
     "metadata": {},
     "output_type": "execute_result"
    }
   ],
   "source": [
    "hotel_df.head(10)"
   ]
  },
  {
   "cell_type": "code",
   "execution_count": 12,
   "metadata": {},
   "outputs": [],
   "source": [
    "# Create the output file (CSV).\n",
    "output_data_file = \"weather_data/WeatherPy_vacation.csv\"\n",
    "# Export the City_Data into a CSV.\n",
    "city_data_df.to_csv(output_data_file)\n",
    "#city_data_df.to_csv(output_data_file, index_label=\"City_ID\")"
   ]
  },
  {
   "cell_type": "code",
   "execution_count": 43,
   "metadata": {},
   "outputs": [],
   "source": [
    "info_box_template = \"\"\"\n",
    "<dl>\n",
    "<dt>Hotel Name</dt><dd>{Hotel Name}</dd>\n",
    "<dt>City</dt><dd>{City}</dd>\n",
    "<dt>Country</dt><dd>{Country}</dd>\n",
    "<dt>Current Weather</dt><dd>{Current Description}</dd>\n",
    "<dt>Max Temp</dt><dd>{Max Temp} °F</dd>\n",
    "</dl>\n",
    "\"\"\"\n",
    "# Store the DataFrame Row.\n",
    "hotel_info = [info_box_template.format(**row) for index, row in hotel_df.iterrows()]"
   ]
  },
  {
   "cell_type": "code",
   "execution_count": 70,
   "metadata": {},
   "outputs": [
    {
     "data": {
      "application/vnd.jupyter.widget-view+json": {
       "model_id": "632292b72fae4d1eaa1b21b2dd3b9d2f",
       "version_major": 2,
       "version_minor": 0
      },
      "text/plain": [
       "Figure(layout=FigureLayout(height='420px'))"
      ]
     },
     "metadata": {},
     "output_type": "display_data"
    }
   ],
   "source": [
    "# Add vacation spots and a pop-up marker for each city.\n",
    "locations = hotel_df[[\"Lat\", \"Lng\"]]\n",
    "max_temp = hotel_df[\"Max Temp\"]\n",
    "fig = gmaps.figure(center=(30.0, 31.0), zoom_level=1.5)\n",
    "heat_layer = gmaps.heatmap_layer(locations, weights=max_temp,dissipating=False,\n",
    "             max_intensity=300, point_radius=4)\n",
    "marker_layer = gmaps.marker_layer(locations, info_box_content=hotel_info)\n",
    "#fig.add_layer(heat_layer)\n",
    "fig.add_layer(marker_layer)\n",
    "\n",
    "# Call the figure to plot the data.\n",
    "fig"
   ]
  },
  {
   "cell_type": "code",
   "execution_count": null,
   "metadata": {},
   "outputs": [],
   "source": []
  }
 ],
 "metadata": {
  "kernelspec": {
   "display_name": "PythonData",
   "language": "python",
   "name": "pythondata"
  },
  "language_info": {
   "codemirror_mode": {
    "name": "ipython",
    "version": 3
   },
   "file_extension": ".py",
   "mimetype": "text/x-python",
   "name": "python",
   "nbconvert_exporter": "python",
   "pygments_lexer": "ipython3",
   "version": "3.7.4"
  }
 },
 "nbformat": 4,
 "nbformat_minor": 2
}
